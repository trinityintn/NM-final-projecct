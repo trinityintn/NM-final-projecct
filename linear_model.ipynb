{
 "cells": [
  {
   "cell_type": "code",
   "execution_count": 1,
   "metadata": {},
   "outputs": [],
   "source": [
    "# import packages\n",
    "import pandas as pd\n",
    "import numpy as np"
   ]
  },
  {
   "cell_type": "code",
   "execution_count": null,
   "metadata": {},
   "outputs": [],
   "source": []
  },
  {
   "cell_type": "code",
   "execution_count": 12,
   "metadata": {
    "scrolled": true
   },
   "outputs": [],
   "source": [
    "# load the dataset\n",
    "from sklearn.model_selection import train_test_split\n",
    "\n",
    "df = pd.read_csv('tainan_house.csv')\n",
    "# display(df.head())\n",
    "\n",
    "X = df.iloc[:,:-1]  # 所需的label\n",
    "y = df.iloc[:,-1]   # 總價位\n",
    "# display(y)\n",
    "\n",
    "# split the dataset into training set and test set\n",
    "X_train, X_test, y_train, y_test = train_test_split(X, y, test_size=0.3, random_state=0)"
   ]
  },
  {
   "cell_type": "code",
   "execution_count": 3,
   "metadata": {},
   "outputs": [],
   "source": [
    "# data normalization\n",
    "from sklearn.preprocessing import StandardScaler\n",
    "sc = StandardScaler()\n",
    "sc.fit(X_train.values)  # 將數據擬合到scaler\n",
    "X_train_nor = sc.transform(X_train.values) # 學完的data進行標準化\n",
    "X_test_nor = sc.transform(X_test.values)   # 測試的data進行標準化"
   ]
  },
  {
   "cell_type": "code",
   "execution_count": 14,
   "metadata": {},
   "outputs": [
    {
     "name": "stdout",
     "output_type": "stream",
     "text": [
      "截距項 928.4861238677953\n",
      "X係數 [ 4.77025940e+01 -1.43298752e+01 -1.16479776e+02  7.31798331e+02\n",
      " -2.77835717e+02  1.78506322e+01  2.05762766e+02 -2.50987560e+00\n",
      "  7.51195833e+01 -1.00445678e+02  3.90279257e+13  4.41437553e+13\n",
      "  1.46294796e+14  1.84974039e+14  9.41494181e+13  6.09965478e+13\n",
      "  1.59163057e+14  1.03568772e+13  1.03568772e+13  1.53327303e+14\n",
      "  1.22925951e+14  1.71709705e+13  5.50895565e+13  2.13019287e+14\n",
      "  5.81207200e+13  1.79293386e+14  4.73357308e+13  3.06047042e+13\n",
      "  2.31464524e+13  8.96961466e+12  2.97193872e+13  5.96870857e+13\n",
      "  1.10298349e+14  1.28990105e+14  1.80585482e+14  2.37172724e+13\n",
      "  4.00378293e+13  2.07055514e+13  1.00576292e+14  2.26577440e+14\n",
      "  2.73800141e+13  3.54511820e+13  6.81167004e+13  5.92439281e+13\n",
      "  6.45572645e+13  7.72766698e+13  5.17895113e+12]\n",
      "R平方: 0.6073959300059079\n"
     ]
    }
   ],
   "source": [
    "# simple linear regression\n",
    "from sklearn.linear_model import LinearRegression\n",
    "regr = LinearRegression()\n",
    "regr.fit(X_train_nor, y_train.values) # 自變數(X)和目標變數(y)擬合到模型上\n",
    "r_squared = regr.score(X_train_nor, y_train.values) # 測試性能\n",
    "\n",
    "print('截距項', regr.intercept_)\n",
    "print('X係數', regr.coef_) # f(x)\n",
    "print('R平方:',r_squared)"
   ]
  },
  {
   "cell_type": "code",
   "execution_count": 13,
   "metadata": {},
   "outputs": [],
   "source": [
    "# total_value = [158, 3, 1, 241, 8, 3, 5, 0, 0, 0]\n",
    "# value3 = 2\n",
    "# df.iloc[0,:].values"
   ]
  },
  {
   "cell_type": "code",
   "execution_count": 19,
   "metadata": {},
   "outputs": [],
   "source": [
    "district = np.zeros(37)\n",
    "district[value3] = 1           # 所在地區=1\n",
    "# print(district)\n",
    "features = np.array(total_value)\n",
    "real = np.concatenate((features, district))\n",
    "real = np.array([real])\n",
    "\n",
    "\n",
    "real_norm = sc.transform(real)\n",
    "# print(real_norm)\n",
    "price = regr.predict(real_norm)  # 進行預測\n",
    "# print(price)\n",
    "# show_price(total_value, value3)"
   ]
  },
  {
   "cell_type": "code",
   "execution_count": 20,
   "metadata": {},
   "outputs": [],
   "source": [
    "# save the model and scaler\n",
    "import pickle\n",
    "pickle.dump(regr, open('model.pkl','wb'))\n",
    "pickle.dump(sc, open('scaler.pkl','wb'))"
   ]
  },
  {
   "cell_type": "code",
   "execution_count": 21,
   "metadata": {},
   "outputs": [],
   "source": [
    "# import the model and scalar\n",
    "model = pickle.load(open('model.pkl','rb'))\n",
    "scaler = pickle.load(open('scaler.pkl','rb'))"
   ]
  },
  {
   "cell_type": "code",
   "execution_count": null,
   "metadata": {},
   "outputs": [],
   "source": []
  },
  {
   "cell_type": "code",
   "execution_count": null,
   "metadata": {},
   "outputs": [],
   "source": []
  }
 ],
 "metadata": {
  "kernelspec": {
   "display_name": "Python 3",
   "language": "python",
   "name": "python3"
  },
  "language_info": {
   "codemirror_mode": {
    "name": "ipython",
    "version": 3
   },
   "file_extension": ".py",
   "mimetype": "text/x-python",
   "name": "python",
   "nbconvert_exporter": "python",
   "pygments_lexer": "ipython3",
   "version": "3.8.8"
  }
 },
 "nbformat": 4,
 "nbformat_minor": 2
}
